{
 "cells": [
  {
   "metadata": {},
   "cell_type": "markdown",
   "source": [
    "# Assignment 2: Recognise, Erase, and Reject feedback\n",
    "\n",
    "This assignment is"
   ],
   "id": "d2bdcf59f1b12b92"
  },
  {
   "cell_type": "code",
   "execution_count": null,
   "id": "initial_id",
   "metadata": {
    "collapsed": true
   },
   "outputs": [],
   "source": [
    "from dataclasses import dataclass\n",
    "\n",
    "@dataclass\n",
    "class Patient:\n",
    "    Menopause: str\n",
    "    Inv_nodes: str\n",
    "    Deg_malig: int\n",
    "    Recurrence: bool\n",
    "\n",
    "\n",
    "    def to_bool(self) -> dict[str, bool]:\n",
    "        return {\n",
    "            \"Menopause_lt40\": self.Menopause == \"lt40\",\n",
    "            \"Menopause_ge40\": self.Menopause == \"ge40\",\n",
    "            \"Menopause_premeno\": self.Menopause == \"premeno\",\n",
    "            \"Inv_nodes_0_2\": self.Inv_nodes == \"0-2\",\n",
    "            \"Inv_nodes_3_5\": self.Inv_nodes == \"3-5\",\n",
    "            \"Inv_nodes_6_8\": self.Inv_nodes == \"6-8\",\n",
    "            \"Deg_malig_1\": self.Deg_malig == \"1\",\n",
    "            \"Deg_malig_2\": self.Deg_malig == \"2\",\n",
    "            \"Deg_malig_3\": self.Deg_malig == \"3\",\n",
    "            \"Recurrence\": self.Recurrence,\n",
    "        }"
   ]
  }
 ],
 "metadata": {
  "kernelspec": {
   "display_name": "Python 3",
   "language": "python",
   "name": "python3"
  },
  "language_info": {
   "codemirror_mode": {
    "name": "ipython",
    "version": 2
   },
   "file_extension": ".py",
   "mimetype": "text/x-python",
   "name": "python",
   "nbconvert_exporter": "python",
   "pygments_lexer": "ipython2",
   "version": "2.7.6"
  }
 },
 "nbformat": 4,
 "nbformat_minor": 5
}
