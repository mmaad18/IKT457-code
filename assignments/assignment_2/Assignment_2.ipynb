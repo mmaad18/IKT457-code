{
 "cells": [
  {
   "metadata": {},
   "cell_type": "markdown",
   "source": [
    "# Assignment 2: Recognise, Erase, and Reject feedback\n",
    "\n",
    "In this assignment we implemented a Tsetlin Clause, which can learn one rule from the dataset of 6 breast cancer patients."
   ],
   "id": "d2bdcf59f1b12b92"
  },
  {
   "metadata": {},
   "cell_type": "markdown",
   "source": [
    "## Patient data representation\n",
    "\n",
    "This will help us when creating the dataset.\n",
    "`full_observation` returns the observation vector with both features and their negations. This is the literal representation used by the Tsetlin Clause.\n",
    "`full_features` returns the feature names with negations. This is used to print the learned rule."
   ],
   "id": "4f90155dc90a265b"
  },
  {
   "cell_type": "code",
   "id": "initial_id",
   "metadata": {
    "collapsed": true,
    "ExecuteTime": {
     "end_time": "2025-10-02T12:40:31.878849Z",
     "start_time": "2025-10-02T12:40:31.873600Z"
    }
   },
   "source": [
    "from dataclasses import dataclass\n",
    "\n",
    "import numpy as np\n",
    "from numpy.typing import NDArray\n",
    "\n",
    "\n",
    "@dataclass\n",
    "class Patient:\n",
    "    Menopause: str\n",
    "    Inv_nodes: str\n",
    "    Deg_malig: int\n",
    "    Recurrence: bool\n",
    "\n",
    "    def to_dict(self) -> dict[str, bool]:\n",
    "        return {\n",
    "            \"Menopause_lt40\": self.Menopause == \"lt40\",\n",
    "            \"Menopause_ge40\": self.Menopause == \"ge40\",\n",
    "            \"Menopause_premeno\": self.Menopause == \"premeno\",\n",
    "            \"Inv_nodes_0_2\": self.Inv_nodes == \"0-2\",\n",
    "            \"Inv_nodes_3_5\": self.Inv_nodes == \"3-5\",\n",
    "            \"Inv_nodes_6_8\": self.Inv_nodes == \"6-8\",\n",
    "            \"Deg_malig_1\": self.Deg_malig == \"1\",\n",
    "            \"Deg_malig_2\": self.Deg_malig == \"2\",\n",
    "            \"Deg_malig_3\": self.Deg_malig == \"3\",\n",
    "        }\n",
    "\n",
    "\n",
    "    def observation(self) -> NDArray[np.bool_]:\n",
    "        return np.array([\n",
    "            self.Menopause == \"lt40\",\n",
    "            self.Menopause == \"ge40\",\n",
    "            self.Menopause == \"premeno\",\n",
    "            self.Inv_nodes == \"0-2\",\n",
    "            self.Inv_nodes == \"3-5\",\n",
    "            self.Inv_nodes == \"6-8\",\n",
    "            self.Deg_malig == \"1\",\n",
    "            self.Deg_malig == \"2\",\n",
    "            self.Deg_malig == \"3\",\n",
    "        ])\n",
    "\n",
    "\n",
    "    def full_observation(self) -> NDArray[np.bool_]:\n",
    "        return np.concatenate([self.observation(), ~self.observation()])\n",
    "\n",
    "\n",
    "    def features(self) -> list[str]:\n",
    "        return list(self.to_dict().keys())\n",
    "\n",
    "\n",
    "    def full_features(self) -> list[str]:\n",
    "        features = self.features()\n",
    "        not_features = [\"¬\" + f for f in features]\n",
    "        return features + not_features\n",
    "\n"
   ],
   "outputs": [],
   "execution_count": 16
  },
  {
   "metadata": {},
   "cell_type": "markdown",
   "source": "### Testing the Patient class",
   "id": "d6cd84df51a9c523"
  },
  {
   "metadata": {
    "ExecuteTime": {
     "end_time": "2025-10-02T12:40:31.887047Z",
     "start_time": "2025-10-02T12:40:31.884001Z"
    }
   },
   "cell_type": "code",
   "source": [
    "def test_patient_1():\n",
    "    patient = Patient(\"ge40\", \"3-5\", 3, True)\n",
    "    print(patient.to_dict())\n",
    "    print(patient.observation())\n",
    "    print(patient.full_observation())\n",
    "    print(patient.full_features())\n",
    "\n",
    "test_patient_1()"
   ],
   "id": "41930b61c2ae132d",
   "outputs": [
    {
     "name": "stdout",
     "output_type": "stream",
     "text": [
      "{'Menopause_lt40': False, 'Menopause_ge40': True, 'Menopause_premeno': False, 'Inv_nodes_0_2': False, 'Inv_nodes_3_5': True, 'Inv_nodes_6_8': False, 'Deg_malig_1': False, 'Deg_malig_2': False, 'Deg_malig_3': False}\n",
      "[False  True False False  True False False False False]\n",
      "[False  True False False  True False False False False  True False  True\n",
      "  True False  True  True  True  True]\n",
      "['Menopause_lt40', 'Menopause_ge40', 'Menopause_premeno', 'Inv_nodes_0_2', 'Inv_nodes_3_5', 'Inv_nodes_6_8', 'Deg_malig_1', 'Deg_malig_2', 'Deg_malig_3', '¬Menopause_lt40', '¬Menopause_ge40', '¬Menopause_premeno', '¬Inv_nodes_0_2', '¬Inv_nodes_3_5', '¬Inv_nodes_6_8', '¬Deg_malig_1', '¬Deg_malig_2', '¬Deg_malig_3']\n"
     ]
    }
   ],
   "execution_count": 17
  },
  {
   "metadata": {},
   "cell_type": "markdown",
   "source": [
    "### Breast Cancer Patient Dataset\n",
    "\n",
    "Dataset of 6 breast cancer patients."
   ],
   "id": "7bc6720eeb14189d"
  },
  {
   "metadata": {
    "ExecuteTime": {
     "end_time": "2025-10-02T12:40:31.894956Z",
     "start_time": "2025-10-02T12:40:31.891937Z"
    }
   },
   "cell_type": "code",
   "source": [
    "patients = [\n",
    "    Patient(\"ge40\", \"3-5\", 3, True),\n",
    "    Patient(\"lt40\", \"0-2\", 3, False),\n",
    "    Patient(\"ge40\", \"6-8\", 3, True),\n",
    "    Patient(\"ge40\", \"0-2\", 2, False),\n",
    "    Patient(\"premeno\", \"0-2\", 3, True),\n",
    "    Patient(\"premeno\", \"0-2\", 1, False)\n",
    "]"
   ],
   "id": "ee12585bb7f06539",
   "outputs": [],
   "execution_count": 18
  },
  {
   "metadata": {},
   "cell_type": "markdown",
   "source": [
    "## Manual Classification Rules\n",
    "\n",
    "We can create manual classification rules to try and predict recurrence."
   ],
   "id": "bbd4a36f10eaa8a6"
  },
  {
   "metadata": {
    "ExecuteTime": {
     "end_time": "2025-10-02T12:40:31.900653Z",
     "start_time": "2025-10-02T12:40:31.898087Z"
    }
   },
   "cell_type": "code",
   "source": [
    "def R1(p: Patient) -> bool:\n",
    "    return p.Deg_malig == 3 and p.Menopause != \"lt40\"\n",
    "\n",
    "def R2(p: Patient) -> bool:\n",
    "    return p.Deg_malig == 3\n",
    "\n",
    "def R3(p: Patient) -> bool:\n",
    "    return p.Inv_nodes == \"0-2\""
   ],
   "id": "b129bb8a62197bbb",
   "outputs": [],
   "execution_count": 19
  },
  {
   "metadata": {},
   "cell_type": "markdown",
   "source": [
    "### Classifying Patients with Manual Rules\n",
    "\n",
    "Testing our manual rules on the patient dataset."
   ],
   "id": "7c6607d8a292c403"
  },
  {
   "metadata": {
    "ExecuteTime": {
     "end_time": "2025-10-02T12:40:31.906590Z",
     "start_time": "2025-10-02T12:40:31.903839Z"
    }
   },
   "cell_type": "code",
   "source": [
    "for i, p in enumerate(patients):\n",
    "    print(f\"Patient {i+1}: {p.Menopause}, {p.Inv_nodes}, {p.Deg_malig}, Recurrence: {p.Recurrence}\")\n",
    "    print(f\"=> R1: {R1(p)}, R2: {R2(p)}, R3: {R3(p)}\\n\")"
   ],
   "id": "29b5c33011636fed",
   "outputs": [
    {
     "name": "stdout",
     "output_type": "stream",
     "text": [
      "Patient 1: ge40, 3-5, 3, Recurrence: True\n",
      "=> R1: True, R2: True, R3: False\n",
      "\n",
      "Patient 2: lt40, 0-2, 3, Recurrence: False\n",
      "=> R1: False, R2: True, R3: True\n",
      "\n",
      "Patient 3: ge40, 6-8, 3, Recurrence: True\n",
      "=> R1: True, R2: True, R3: False\n",
      "\n",
      "Patient 4: ge40, 0-2, 2, Recurrence: False\n",
      "=> R1: False, R2: False, R3: True\n",
      "\n",
      "Patient 5: premeno, 0-2, 3, Recurrence: True\n",
      "=> R1: True, R2: True, R3: True\n",
      "\n",
      "Patient 6: premeno, 0-2, 1, Recurrence: False\n",
      "=> R1: False, R2: False, R3: True\n",
      "\n"
     ]
    }
   ],
   "execution_count": 20
  },
  {
   "metadata": {},
   "cell_type": "markdown",
   "source": [
    "## Tsetlin Clause Implementation\n",
    "\n",
    "The Tsetlin Clause can learn one rule from a dataset.\n",
    "As we understand it, Tsetlin Machines typically consist of multiple clauses, but for this assignment we focus on a single clause to learn a specific rule."
   ],
   "id": "ea74c0357e507446"
  },
  {
   "metadata": {
    "ExecuteTime": {
     "end_time": "2025-10-02T12:40:31.919310Z",
     "start_time": "2025-10-02T12:40:31.910981Z"
    }
   },
   "cell_type": "code",
   "source": [
    "from dataclasses import dataclass, field\n",
    "\n",
    "import numpy as np\n",
    "from numpy.typing import NDArray\n",
    "\n",
    "\n",
    "@dataclass\n",
    "class TsetlinClause:\n",
    "    memory_size: int\n",
    "    num_of_automata: int\n",
    "    states: NDArray[np.int_] = field(init=False)\n",
    "\n",
    "    def __post_init__(self) -> None:\n",
    "        self.states = np.random.randint(1, 2*self.memory_size + 1, size=self.num_of_automata)\n",
    "\n",
    "\n",
    "    def _clipped_step(self, step: NDArray[np.int_]) -> None:\n",
    "        self.states = np.clip(self.states + step, 1, 2*self.memory_size)\n",
    "\n",
    "\n",
    "    def _probability_vector(self, probability: float) -> NDArray[np.bool_]:\n",
    "        return np.random.rand(self.num_of_automata) < probability\n",
    "\n",
    "\n",
    "    def reset(self) -> None:\n",
    "        self.states = np.ones(self.num_of_automata, dtype=int)\n",
    "\n",
    "\n",
    "    def update(self, rewards: NDArray[np.bool_]) -> None:\n",
    "        direction = np.where(self.states > self.memory_size, 1, -1)\n",
    "        step = np.where(rewards, direction, -direction)\n",
    "        self._clipped_step(step)\n",
    "\n",
    "\n",
    "    def memorize(self, literals: NDArray[np.bool_], memorize_value: float) -> None:\n",
    "        transition = literals & self._probability_vector(memorize_value)\n",
    "        step = np.where(transition, 1, 0)\n",
    "        self._clipped_step(step)\n",
    "\n",
    "\n",
    "    def forget(self, literals: NDArray[np.bool_], forget_value: float) -> None:\n",
    "        transition = literals & self._probability_vector(forget_value)\n",
    "        step = np.where(transition, -1, 0)\n",
    "        self._clipped_step(step)\n",
    "\n",
    "\n",
    "    def get_actions(self) -> NDArray[np.bool_]:\n",
    "        return self.states > self.memory_size\n",
    "\n",
    "\n",
    "    def get_states(self) -> NDArray[np.int_]:\n",
    "        return self.states.copy()\n",
    "\n",
    "\n",
    "    def get_rule(self, features: list[str]) -> str:\n",
    "        actions = self.get_actions()\n",
    "        included = [f for action, f in zip(actions, features) if action]\n",
    "        return \" ∧ \".join(included) if included else \"⊤\"\n",
    "\n",
    "\n",
    "    def condition(self, observation: NDArray[np.bool_]) -> tuple[np.bool_, NDArray[np.bool_]]:\n",
    "        mem_literals = self.states > self.memory_size\n",
    "        true_literals = observation & mem_literals\n",
    "        return np.all(true_literals[mem_literals]), true_literals\n",
    "\n",
    "\n",
    "    def vote(self, observation: NDArray[np.bool_]) -> int:\n",
    "        fired, _ = self.condition(observation)\n",
    "        return 1 if fired else 0\n",
    "\n",
    "\n",
    "    def type_i_feedback(self, observation: NDArray[np.bool_], memorize_value: float) -> None:\n",
    "        forget_value = 1 - memorize_value\n",
    "        condition, true_literals = self.condition(observation)\n",
    "        if condition:\n",
    "            self.memorize(true_literals, memorize_value)\n",
    "            self.forget(~true_literals, forget_value)\n",
    "        else:\n",
    "            all_literals = np.ones(self.num_of_automata, dtype=bool)\n",
    "            self.forget(all_literals, forget_value)\n",
    "\n",
    "\n",
    "    def type_ii_feedback(self, observation: NDArray[np.bool_]) -> None:\n",
    "        condition, true_literals = self.condition(observation)\n",
    "        if condition:\n",
    "            memorize_literals = ~true_literals & (self.states <= self.memory_size)\n",
    "            self.memorize(memorize_literals, 1.0)\n"
   ],
   "id": "3bc9a9d1fcbc0d6b",
   "outputs": [],
   "execution_count": 21
  },
  {
   "metadata": {},
   "cell_type": "markdown",
   "source": [
    "## Learning Rules with Mixed Feedback\n",
    "\n",
    "We separate between epochs and steps per epoch to allow for controlled shuffling of the data."
   ],
   "id": "e088477136b32aad"
  },
  {
   "metadata": {
    "ExecuteTime": {
     "end_time": "2025-10-02T12:40:31.925592Z",
     "start_time": "2025-10-02T12:40:31.921917Z"
    }
   },
   "cell_type": "code",
   "source": [
    "def learn_rule(\n",
    "    memorize_value: float,\n",
    "    learn_recurrence: bool,\n",
    "    memory_size: int = 10,\n",
    "    epochs: int = 100,\n",
    "    steps_per_epoch: int = 10,\n",
    "    seed: int = 0,\n",
    ") -> None:\n",
    "    rng = np.random.default_rng(seed)\n",
    "\n",
    "    full_features = patients[0].full_features()\n",
    "    observations  = [p.full_observation() for p in patients]\n",
    "\n",
    "    idx_pos = [i for i, p in enumerate(patients) if p.Recurrence]\n",
    "    idx_neg = [i for i, p in enumerate(patients) if not p.Recurrence]\n",
    "\n",
    "    clause = TsetlinClause(memory_size=memory_size, num_of_automata=len(full_features))\n",
    "    clause.states.fill(memory_size // 2)\n",
    "\n",
    "    for _ in range(epochs):\n",
    "        rng.shuffle(idx_pos)\n",
    "        rng.shuffle(idx_neg)\n",
    "\n",
    "        for k in range(steps_per_epoch):\n",
    "            i_pos = idx_pos[k % len(idx_pos)]\n",
    "            i_neg = idx_neg[k % len(idx_neg)]\n",
    "            x_pos = observations[i_pos]\n",
    "            x_neg = observations[i_neg]\n",
    "\n",
    "            if learn_recurrence:\n",
    "                clause.type_i_feedback(x_pos, memorize_value)\n",
    "                clause.type_ii_feedback(x_neg)\n",
    "            else:\n",
    "                clause.type_i_feedback(x_neg, memorize_value)\n",
    "                clause.type_ii_feedback(x_pos)\n",
    "\n",
    "    rule_type = \"Recurrence\" if learn_recurrence else \"Non-recurrence\"\n",
    "    rule_str  = f\"IF {clause.get_rule(full_features)} THEN {rule_type}\"\n",
    "    print(rule_str)"
   ],
   "id": "2ef9f5a96f34e1a2",
   "outputs": [],
   "execution_count": 22
  },
  {
   "metadata": {},
   "cell_type": "markdown",
   "source": "### Scenario 1: memorize_value = 0.2, forget_value = 0.8",
   "id": "7b47b860173d6ace"
  },
  {
   "metadata": {
    "ExecuteTime": {
     "end_time": "2025-10-02T12:40:31.966250Z",
     "start_time": "2025-10-02T12:40:31.929714Z"
    }
   },
   "cell_type": "code",
   "source": [
    "learn_rule(0.2, True)\n",
    "learn_rule(0.2, False)"
   ],
   "id": "dfd76e13cb5e51a4",
   "outputs": [
    {
     "name": "stdout",
     "output_type": "stream",
     "text": [
      "IF Menopause_ge40 THEN Recurrence\n",
      "IF Menopause_lt40 THEN Non-recurrence\n"
     ]
    }
   ],
   "execution_count": 23
  },
  {
   "metadata": {},
   "cell_type": "markdown",
   "source": "### Scenario 2: memorize_value = 0.5, forget_value = 0.5",
   "id": "c6fda53fdf1edd18"
  },
  {
   "metadata": {
    "ExecuteTime": {
     "end_time": "2025-10-02T12:40:32.011893Z",
     "start_time": "2025-10-02T12:40:31.977746Z"
    }
   },
   "cell_type": "code",
   "source": [
    "learn_rule(0.5, True)\n",
    "learn_rule(0.5, False)"
   ],
   "id": "6e8b5accf6b6ecc9",
   "outputs": [
    {
     "name": "stdout",
     "output_type": "stream",
     "text": [
      "IF ¬Inv_nodes_0_2 THEN Recurrence\n",
      "IF ¬Menopause_ge40 THEN Non-recurrence\n"
     ]
    }
   ],
   "execution_count": 24
  },
  {
   "metadata": {},
   "cell_type": "markdown",
   "source": "### Scenario 3: memorize_value = 0.8, forget_value = 0.2",
   "id": "ebd650e97af05ac9"
  },
  {
   "metadata": {
    "ExecuteTime": {
     "end_time": "2025-10-02T12:40:32.045390Z",
     "start_time": "2025-10-02T12:40:32.014510Z"
    }
   },
   "cell_type": "code",
   "source": [
    "learn_rule(0.8, True)\n",
    "learn_rule(0.8, False)"
   ],
   "id": "a64949c61227823a",
   "outputs": [
    {
     "name": "stdout",
     "output_type": "stream",
     "text": [
      "IF ¬Inv_nodes_0_2 ∧ ¬Inv_nodes_3_5 THEN Recurrence\n",
      "IF Menopause_lt40 THEN Non-recurrence\n"
     ]
    }
   ],
   "execution_count": 25
  }
 ],
 "metadata": {
  "kernelspec": {
   "display_name": "Python 3",
   "language": "python",
   "name": "python3"
  },
  "language_info": {
   "codemirror_mode": {
    "name": "ipython",
    "version": 2
   },
   "file_extension": ".py",
   "mimetype": "text/x-python",
   "name": "python",
   "nbconvert_exporter": "python",
   "pygments_lexer": "ipython2",
   "version": "2.7.6"
  }
 },
 "nbformat": 4,
 "nbformat_minor": 5
}
